{
 "cells": [
  {
   "cell_type": "markdown",
   "id": "c7195d51-4408-4f19-8d73-2ab59dd6c295",
   "metadata": {},
   "source": [
    "1. Write a Python program to convert a list of numeric value into a one-dimensional NumPy array. \n",
    "Expected Output: \n",
    "Original List: [12.23, 13.32, 100, 36.32] \n",
    "One-dimensional numpy array: [ 12.23 13.32 100. 36.32] "
   ]
  },
  {
   "cell_type": "code",
   "execution_count": 1,
   "id": "36627143-647a-4d7b-be99-649411871db9",
   "metadata": {},
   "outputs": [
    {
     "name": "stdout",
     "output_type": "stream",
     "text": [
      "list :  [12.23, 13.32, 100, 36.32] <class 'list'>\n",
      "numpy array :  [ 12.23  13.32 100.    36.32] float64\n"
     ]
    }
   ],
   "source": [
    "import numpy as np\n",
    "lst = [12.23, 13.32, 100, 36.32]\n",
    "np1 = np.array(lst)\n",
    "print(\"list : \",lst,type(lst))\n",
    "print(\"numpy array : \",np1,np1.dtype)"
   ]
  },
  {
   "cell_type": "markdown",
   "id": "ad0cb49f-6793-4ffa-80fb-278eba9bbb41",
   "metadata": {},
   "source": [
    "2. Create a 3x3 matrix with values ranging from 2 to 10. \n",
    "Expected Output: \n",
    "[[ 2 3 4] \n",
    "[ 5 6 7] \n",
    "[ 8 9 10]] "
   ]
  },
  {
   "cell_type": "code",
   "execution_count": 2,
   "id": "569a69d8-5d63-4b0c-95a0-bdcb44db329e",
   "metadata": {},
   "outputs": [
    {
     "name": "stdout",
     "output_type": "stream",
     "text": [
      "[[ 2  3  4]\n",
      " [ 5  6  7]\n",
      " [ 8  9 10]]\n"
     ]
    }
   ],
   "source": [
    "np1 = np.arange(2,11).reshape(3,3)\n",
    "print(np1)"
   ]
  },
  {
   "cell_type": "markdown",
   "id": "3cf1e5f6-6aff-4700-9184-c1f3e75c78e8",
   "metadata": {},
   "source": [
    "3. Write a Python program to create a null vector of size 10 and update sixth value to 11. [ 0. 0. 0. 0. 0. 0. 0. 0. 0. 0.] \n",
    "Update sixth value to 11 \n",
    "[ 0. 0. 0. 0. 0. 0. 11. 0. 0. 0.] "
   ]
  },
  {
   "cell_type": "code",
   "execution_count": 3,
   "id": "8e2a5efe-d0ea-4129-9fb9-1d9553cbd815",
   "metadata": {},
   "outputs": [
    {
     "name": "stdout",
     "output_type": "stream",
     "text": [
      "[ 0.  0.  0.  0.  0.  0. 11.  0.  0.  0.]\n"
     ]
    }
   ],
   "source": [
    "np1 = np.zeros(10)\n",
    "np1[6]=11\n",
    "print(np1)"
   ]
  },
  {
   "cell_type": "markdown",
   "id": "22dad6a5-5630-4f7b-871a-f9a1d97e3be5",
   "metadata": {},
   "source": [
    "4. Write a Python program to reverse an array (first element becomes last).\n",
    "Original array: [12 13 14 15 16 17 18 19 20 21 22 23 24 25 26 27 28 29 30 31 32 33 34 35 36 37] \n",
    "Reverse array: [37 36 35 34 33 32 31 30 29 28 27 26 25 24 23 22 21 20 19 18 17 16 15 14 13 12] "
   ]
  },
  {
   "cell_type": "code",
   "execution_count": 4,
   "id": "926bfd2a-818b-4b62-b64e-ff652a2a291b",
   "metadata": {},
   "outputs": [
    {
     "name": "stdout",
     "output_type": "stream",
     "text": [
      "Original Array :  [12 13 14 15 16 17 18 19 20 21 22 23 24 25 26 27 28 29 30 31 32 33 34 35\n",
      " 36 37]\n",
      "Reverse Array :  [37 36 35 34 33 32 31 30 29 28 27 26 25 24 23 22 21 20 19 18 17 16 15 14\n",
      " 13 12]\n"
     ]
    }
   ],
   "source": [
    "np1 = np.array([12, 13, 14, 15, 16, 17, 18, 19, 20, 21, 22, 23, 24, 25, 26, 27, 28, 29, 30, 31, 32, 33, 34, 35, 36, 37])\n",
    "print(\"Original Array : \",np1)\n",
    "print(\"Reverse Array : \",np1[::-1])"
   ]
  },
  {
   "cell_type": "markdown",
   "id": "02d047fa-35d1-46d5-a885-88a0d39fdd1c",
   "metadata": {},
   "source": [
    "5. Write a Python program to create a 2d array with 1 on the border and 0 inside. Expected Output: \n",
    "Original array: \n",
    "[[ 1. 1. 1. 1. 1.] \n",
    "[ 1. 1. 1. 1. 1.] \n",
    "[ 1. 1. 1. 1. 1.] \n",
    "[ 1. 1. 1. 1. 1.] \n",
    "[ 1. 1. 1. 1. 1.]]\n",
    "1 on the border and 0 inside in the array \n",
    "[[ 1. 1. 1. 1. 1.] \n",
    "[ 1. 0. 0. 0. 1.] \n",
    "[ 1. 0. 0. 0. 1.] \n",
    "[ 1. 0. 0. 0. 1.] \n",
    "[ 1. 1. 1. 1. 1.]] \n"
   ]
  },
  {
   "cell_type": "code",
   "execution_count": 5,
   "id": "2236bd10-7240-4ddf-a42c-dd4548788b32",
   "metadata": {},
   "outputs": [
    {
     "name": "stdout",
     "output_type": "stream",
     "text": [
      "Original Array : \n",
      " [[1. 1. 1. 1. 1.]\n",
      " [1. 1. 1. 1. 1.]\n",
      " [1. 1. 1. 1. 1.]\n",
      " [1. 1. 1. 1. 1.]\n",
      " [1. 1. 1. 1. 1.]]\n",
      "np2 : \n",
      " [[0. 0. 0.]\n",
      " [0. 0. 0.]\n",
      " [0. 0. 0.]]\n",
      "Expected : \n",
      " [[1. 1. 1. 1. 1.]\n",
      " [1. 0. 0. 0. 1.]\n",
      " [1. 0. 0. 0. 1.]\n",
      " [1. 0. 0. 0. 1.]\n",
      " [1. 1. 1. 1. 1.]]\n"
     ]
    }
   ],
   "source": [
    "np1 = np.ones(25).reshape(5,5)\n",
    "print(\"Original Array : \\n\",np1)\n",
    "np2 = np.zeros(9).reshape(3,3)\n",
    "print(\"np2 : \\n\",np2)\n",
    "np1[1:4,1:4]=np2\n",
    "print(\"Expected : \\n\",np1)"
   ]
  },
  {
   "cell_type": "markdown",
   "id": "4c46a475-b305-4a29-ac9e-8255e72778da",
   "metadata": {},
   "source": [
    "6. Write a Python program to add a border (filled with 0's) around an existing array. Expected Output: \n",
    "Original array: \n",
    "[[ 1. 1. 1.] \n",
    "[ 1. 1. 1.] \n",
    "[ 1. 1. 1.]] \n",
    "1 on the border and 0 inside in the array \n",
    "[[ 0. 0. 0. 0. 0.] \n",
    "[ 0. 1. 1. 1. 0.] \n",
    "[ 0. 1. 1. 1. 0.] \n",
    "[ 0. 1. 1. 1. 0.] \n",
    "[ 0. 0. 0. 0. 0.]] \n"
   ]
  },
  {
   "cell_type": "code",
   "execution_count": 6,
   "id": "d88fe5d9-365c-4a5a-ac30-36e235dde06a",
   "metadata": {},
   "outputs": [
    {
     "name": "stdout",
     "output_type": "stream",
     "text": [
      "original array : \n",
      " [[1. 1. 1.]\n",
      " [1. 1. 1.]\n",
      " [1. 1. 1.]]\n",
      "Expected array : \n",
      " [[0. 0. 0. 0. 0.]\n",
      " [0. 1. 1. 1. 0.]\n",
      " [0. 1. 1. 1. 0.]\n",
      " [0. 1. 1. 1. 0.]\n",
      " [0. 0. 0. 0. 0.]]\n"
     ]
    }
   ],
   "source": [
    "np1 = np.ones(9).reshape(3,3)\n",
    "print(\"original array : \\n\",np1)\n",
    "np2 = np.zeros(25).reshape(5,5)\n",
    "np2[1:4,1:4]=np1\n",
    "np1 = np2\n",
    "print(\"Expected array : \\n\",np1)"
   ]
  },
  {
   "cell_type": "markdown",
   "id": "3c0ae722-2e8b-4201-9718-ae826600f5bd",
   "metadata": {},
   "source": [
    "7. Write a Python program to create a 8x8 matrix and fill it with a checkerboard pattern. Checkerboard pattern: \n",
    "[[0 1 0 1 0 1 0 1] \n",
    "[1 0 1 0 1 0 1 0] \n",
    "[0 1 0 1 0 1 0 1] \n",
    "[1 0 1 0 1 0 1 0] \n",
    "[0 1 0 1 0 1 0 1] \n",
    "[1 0 1 0 1 0 1 0] \n",
    "[0 1 0 1 0 1 0 1] \n",
    "[1 0 1 0 1 0 1 0]] "
   ]
  },
  {
   "cell_type": "code",
   "execution_count": 7,
   "id": "6cb07662-e89c-403f-838f-58cf96807442",
   "metadata": {},
   "outputs": [
    {
     "name": "stdout",
     "output_type": "stream",
     "text": [
      "[[0. 1. 0. 1. 0. 1. 0. 1.]\n",
      " [1. 0. 1. 0. 1. 0. 1. 0.]\n",
      " [0. 1. 0. 1. 0. 1. 0. 1.]\n",
      " [1. 0. 1. 0. 1. 0. 1. 0.]\n",
      " [0. 1. 0. 1. 0. 1. 0. 1.]\n",
      " [1. 0. 1. 0. 1. 0. 1. 0.]\n",
      " [0. 1. 0. 1. 0. 1. 0. 1.]\n",
      " [1. 0. 1. 0. 1. 0. 1. 0.]]\n"
     ]
    }
   ],
   "source": [
    "np1 = np.zeros(64).reshape(8,8)\n",
    "np1[1::2, ::2] = 1\n",
    "np1[::2, 1::2] = 1\n",
    "print(np1)"
   ]
  },
  {
   "cell_type": "markdown",
   "id": "eb92d5c2-9cb8-4085-a903-9adb017c3da9",
   "metadata": {},
   "source": [
    "8. Write a Python program to convert a list and tuple into arrays. \n",
    "List to array: \n",
    "[1 2 3 4 5 6 7 8] \n",
    "Tuple to array: \n",
    "[[8 4 6] \n",
    "[1 2 3]] "
   ]
  },
  {
   "cell_type": "code",
   "execution_count": 8,
   "id": "4529f53e-83e8-4ac8-a96f-5bc782859c39",
   "metadata": {},
   "outputs": [
    {
     "name": "stdout",
     "output_type": "stream",
     "text": [
      "(1, 2, 3, 4, 5, 6, 7, 8)\n",
      "[1, 2, 3, 4, 5, 6, 7, 8]\n",
      "tuple to array [1 2 3 4 5 6 7 8]\n",
      "list to array [1 2 3 4 5 6 7 8]\n"
     ]
    }
   ],
   "source": [
    "tup = (1,2,3,4,5,6,7,8)\n",
    "print(tup)\n",
    "lst = list(tup)\n",
    "print(lst)\n",
    "print(\"tuple to array\",np.array(tup))\n",
    "print(\"list to array\",np.array(lst))"
   ]
  },
  {
   "cell_type": "markdown",
   "id": "fa0109ee-99c1-4a02-ab24-b839df2871ce",
   "metadata": {},
   "source": [
    "9. Write a Python program to append values to the end of an array. Expected Output: \n",
    "Original array: \n",
    "[10, 20, 30]\n",
    "After append values to the end of the array: \n",
    "[10 20 30 40 50 60 70 80 90] "
   ]
  },
  {
   "cell_type": "code",
   "execution_count": 9,
   "id": "6b221375-741d-4386-afd5-a1c2eaed7d1e",
   "metadata": {},
   "outputs": [
    {
     "name": "stdout",
     "output_type": "stream",
     "text": [
      "Original Array :  [10 20 30]\n",
      "Expected Array :  [10 20 30 40 50 60 70 80 90]\n"
     ]
    }
   ],
   "source": [
    "np1 = np.array([10,20,30])\n",
    "np2 = np.array([40,50,60,70,80,90])\n",
    "np3 = np.append(np1,np2)\n",
    "print(\"Original Array : \",np1)\n",
    "print(\"Expected Array : \",np3)"
   ]
  },
  {
   "cell_type": "markdown",
   "id": "005f1b3f-0a07-45fb-aa9e-ed69f838f093",
   "metadata": {},
   "source": [
    "10. Write a Python program to find the real and imaginary parts of an array of complex numbers. \n",
    "Expected Output: \n",
    "Original array [ 1.00000000+0.j 0.70710678+0.70710678j] \n",
    "Real part of the array: \n",
    "[ 1. 0.70710678] \n",
    "Imaginary part of the array: \n",
    "[ 0. 0.70710678] \n"
   ]
  },
  {
   "cell_type": "code",
   "execution_count": 10,
   "id": "8c6b947e-dafe-4983-851e-d185892d615c",
   "metadata": {},
   "outputs": [
    {
     "name": "stdout",
     "output_type": "stream",
     "text": [
      "Original Array :  [1.        +0.j         0.70710678+0.70710678j]\n",
      "Real part of the array:  [1.         0.70710678]\n",
      "Imaginary part of the array:  [0.         0.70710678]\n"
     ]
    }
   ],
   "source": [
    "np1 = np.array([ 1.00000000+0.j,0.70710678+0.70710678j])\n",
    "print(\"Original Array : \",np1)\n",
    "real_part = np.real(np1)\n",
    "print(\"Real part of the array: \",real_part)\n",
    "imag_part = np.imag(np1)\n",
    "print(\"Imaginary part of the array: \",imag_part)"
   ]
  },
  {
   "cell_type": "markdown",
   "id": "5df37931-45ff-4919-89a6-a1209dd8fe03",
   "metadata": {},
   "source": [
    "11. Write a Python program to find the number of elements of an array, length of one array element in bytes and total bytes consumed by the elements. \n",
    "Expected Output: \n",
    "Size of the array: 3 \n",
    "Length of one array element in bytes: 8 \n",
    "Total bytes consumed by the elements of the array: 24 \n"
   ]
  },
  {
   "cell_type": "code",
   "execution_count": 11,
   "id": "ac64cf5b-d371-454b-8941-4e6135801c00",
   "metadata": {},
   "outputs": [
    {
     "name": "stdout",
     "output_type": "stream",
     "text": [
      "Size of the array:  3\n",
      "Length of one array element in bytes:  8\n",
      "Total bytes consumed by the elements of the array:  24\n"
     ]
    }
   ],
   "source": [
    "np1 = np.array([1,2,3])\n",
    "print(\"Size of the array: \",np1.size)\n",
    "print(\"Length of one array element in bytes: \",np1.itemsize)\n",
    "print(\"Total bytes consumed by the elements of the array: \",np1.nbytes)"
   ]
  },
  {
   "cell_type": "markdown",
   "id": "2ab88a3e-eea9-446b-82c7-c6764d7dd86d",
   "metadata": {},
   "source": [
    "12. Write a Python program to find common values between two arrays. Expected Output: \n",
    "Array1: [ 0 10 20 40 60] \n",
    "Array2: [10, 30, 40] \n",
    "Common values between two arrays: \n",
    "[10 40] "
   ]
  },
  {
   "cell_type": "code",
   "execution_count": 12,
   "id": "15d587a7-6573-4f05-aef0-da1f56f316f0",
   "metadata": {},
   "outputs": [
    {
     "name": "stdout",
     "output_type": "stream",
     "text": [
      "Intersect : [10 40]\n"
     ]
    }
   ],
   "source": [
    "np1 = np.array([0 ,10,20,40,60])\n",
    "np2 = np.array([10,30,40])\n",
    "print(\"Intersect :\",np.intersect1d(np1,np2))"
   ]
  },
  {
   "cell_type": "markdown",
   "id": "deb77df8-5188-48b5-8f75-a375e43f90a5",
   "metadata": {},
   "source": [
    "13. Write a Python program to find the set difference of two arrays. The set difference will return the sorted, unique values in array1 that are not in array2. Expected Output: \n",
    "Array1: [ 0 10 20 40 60 80] \n",
    "Array2: [10, 30, 40, 50, 70, 90] \n",
    "Set difference between two arrays: \n",
    "[ 0 20 60 80] "
   ]
  },
  {
   "cell_type": "code",
   "execution_count": 13,
   "id": "27ec9570-6f21-497b-b7b4-6c6d4b7377b8",
   "metadata": {},
   "outputs": [
    {
     "name": "stdout",
     "output_type": "stream",
     "text": [
      "set_difference [ 0 20 60 80]\n"
     ]
    }
   ],
   "source": [
    "np1 = np.array([ 0,10, 20 ,40, 60, 80])\n",
    "np2 = np.array([10, 30, 40, 50, 70, 90])\n",
    "print(\"set_difference\",np.setdiff1d(np1,np2))"
   ]
  },
  {
   "cell_type": "markdown",
   "id": "f827a68a-e254-436a-90b5-8d5deb9649dc",
   "metadata": {},
   "source": [
    "14. Write a Python program to find the set exclusive-or of two arrays. Set exclusive-or will return the sorted, unique values that are in only one (not both) of the input arrays. Array1: [ 0 10 20 40 60 80] \n",
    "Array2: [10, 30, 40, 50, 70] \n",
    "Unique values that are in only one (not both) of the input arrays: \n",
    "[ 0 20 30 50 60 70 80]\n"
   ]
  },
  {
   "cell_type": "code",
   "execution_count": 14,
   "id": "c40593be-f8db-465c-9918-6fb4790ac44d",
   "metadata": {},
   "outputs": [
    {
     "name": "stdout",
     "output_type": "stream",
     "text": [
      "Unique values that are in only one (not both) of the input arrays:\n",
      " [ 0 20 30 50 60 70 80]\n"
     ]
    }
   ],
   "source": [
    "np1 = np.array([0, 10, 20, 40, 60, 80])\n",
    "np2 = np.array([10, 30, 40, 50, 70])\n",
    "setxor = np.setxor1d(np1,np2)\n",
    "print(\"Unique values that are in only one (not both) of the input arrays:\\n\",setxor)"
   ]
  },
  {
   "cell_type": "markdown",
   "id": "9ead8c98-816c-48bf-b4aa-95ffe84559bb",
   "metadata": {},
   "source": [
    "15. Write a Python program compare two arrays using numpy. \n",
    "Array a: [1 2] \n",
    "Array b: [4 5] "
   ]
  },
  {
   "cell_type": "code",
   "execution_count": 31,
   "id": "19e133be-2353-4030-ace2-911888e0af04",
   "metadata": {},
   "outputs": [
    {
     "name": "stdout",
     "output_type": "stream",
     "text": [
      "a>b :  [False False]\n",
      "a==b :  [False False]\n",
      "a<b :  [ True  True]\n",
      "a<=b :  [ True  True]\n"
     ]
    }
   ],
   "source": [
    "a = np.array([1,2])\n",
    "b = np.array([4,5])\n",
    "print(\"a>b : \",a>b)\n",
    "print(\"a==b : \",a==b)\n",
    "print(\"a<b : \",a<b)\n",
    "print(\"a<=b : \",a<=b)"
   ]
  },
  {
   "cell_type": "markdown",
   "id": "5b24e186-f3e6-4e3f-851b-c727da21240b",
   "metadata": {},
   "source": [
    "16. Write a Python program to save a NumPy array to a text file. "
   ]
  },
  {
   "cell_type": "code",
   "execution_count": 16,
   "id": "fd8eeefe-1d12-411b-bddb-2bc3bf351618",
   "metadata": {},
   "outputs": [
    {
     "name": "stdout",
     "output_type": "stream",
     "text": [
      "[ 1  2  3  4  5  6  7  8  9 10]\n"
     ]
    }
   ],
   "source": [
    "a = np.arange(1,11)\n",
    "print(a)"
   ]
  },
  {
   "cell_type": "markdown",
   "id": "52b29369-3cb4-49fb-a601-f97972182d7d",
   "metadata": {},
   "source": [
    "17. Write a Python program to create a contiguous flattened array. Original array: \n",
    "[[10 20 30] \n",
    "[20 40 50]] \n",
    "New flattened array: \n",
    "[10 20 30 20 40 50] "
   ]
  },
  {
   "cell_type": "code",
   "execution_count": 17,
   "id": "4d4b4dbc-7ef2-4752-b124-36318cfb8151",
   "metadata": {},
   "outputs": [
    {
     "name": "stdout",
     "output_type": "stream",
     "text": [
      "a : \n",
      " [[10 20 30]\n",
      " [20 40 50]]\n",
      "flatten array : [10 20 30 20 40 50]\n",
      "flatten array : [10 20 30 20 40 50]\n"
     ]
    }
   ],
   "source": [
    "a = np.array([[10, 20, 30] ,[20, 40, 50]] )\n",
    "print(\"a : \\n\",a)\n",
    "print(\"flatten array :\",a.reshape(-1))\n",
    "print(\"flatten array :\",a.flatten())"
   ]
  },
  {
   "cell_type": "markdown",
   "id": "09ff8234-c8ac-4b37-a13c-5a566b9ff1f9",
   "metadata": {},
   "source": [
    "17. Write a Python program to change the data type of an array. Expected Output: \n",
    "[[ 2 4 6] \n",
    "[ 6 8 10]] \n",
    "Data type of the array x is: int32 \n",
    "New Type: float64 \n",
    "[[ 2. 4. 6.] \n",
    "[ 6. 8. 10.]] \n"
   ]
  },
  {
   "cell_type": "code",
   "execution_count": 18,
   "id": "f1d5cad6-d58d-417d-aeac-e4d2497f0d69",
   "metadata": {},
   "outputs": [
    {
     "name": "stdout",
     "output_type": "stream",
     "text": [
      "a and its Data type of the array:\n",
      " [[ 2  4  6]\n",
      " [ 6  8 10]] int32\n",
      "b and its Data type of the array:\n",
      " [[ 2.  4.  6.]\n",
      " [ 6.  8. 10.]] float64\n"
     ]
    }
   ],
   "source": [
    "a = np.array([[ 2, 4, 6] ,[ 6, 8, 10]],dtype=np.int32 )\n",
    "print(\"a and its Data type of the array:\\n\",a,a.dtype)\n",
    "b = np.array(a,dtype=np.float64)\n",
    "print(\"b and its Data type of the array:\\n\",b,b.dtype)"
   ]
  },
  {
   "cell_type": "markdown",
   "id": "03308905-fc7d-4dc0-b33d-a3c0bd9d8789",
   "metadata": {},
   "source": [
    "18. Write a Python program to create a 3-D array with ones on a diagonal and zeros elsewhere. \n",
    "Expected Output: \n",
    "[[ 1. 0. 0.] \n",
    "[ 0. 1. 0.] \n",
    "[ 0. 0. 1.]] "
   ]
  },
  {
   "cell_type": "code",
   "execution_count": 19,
   "id": "c4331c64-a889-4410-8a44-a6b6928ae214",
   "metadata": {},
   "outputs": [
    {
     "name": "stdout",
     "output_type": "stream",
     "text": [
      "[[1. 0. 0.]\n",
      " [0. 1. 0.]\n",
      " [0. 0. 1.]]\n"
     ]
    }
   ],
   "source": [
    "a = np.identity(3)\n",
    "print(a)"
   ]
  },
  {
   "cell_type": "markdown",
   "id": "89444cc6-6172-477d-8446-99219d5367fa",
   "metadata": {},
   "source": [
    "19. Write a Python program to create an array which looks like below array. Expected Output: \n",
    "[[ 0. 0. 0.] \n",
    "[ 1. 0. 0.] \n",
    "[ 1. 1. 0.]\n",
    "[ 1. 1. 1.]] "
   ]
  },
  {
   "cell_type": "code",
   "execution_count": 20,
   "id": "62cfb863-11bf-448c-9051-e300c9ebeec9",
   "metadata": {},
   "outputs": [
    {
     "name": "stdout",
     "output_type": "stream",
     "text": [
      "[[1. 0. 0.]\n",
      " [1. 1. 0.]\n",
      " [1. 1. 1.]\n",
      " [1. 1. 1.]]\n"
     ]
    }
   ],
   "source": [
    "a = np.zeros(12).reshape(4,3)\n",
    "for i in range(4):\n",
    "    for j in range(min(i+1,3)):\n",
    "        a[i,j]=1\n",
    "print(a)"
   ]
  },
  {
   "cell_type": "markdown",
   "id": "4c989da2-3f74-48f9-8be2-d9b0292784b9",
   "metadata": {},
   "source": [
    "20. Write a Python program to concatenate two 2-dimensional arrays. Expected Output: \n",
    "Sample arrays: ([[0, 1, 3], [5, 7, 9]], [[0, 2, 4], [6, 8, 10]] \n",
    "Expected Output: \n",
    "[[ 0 1 3 0 2 4] \n",
    "[ 5 7 9 6 8 10]] "
   ]
  },
  {
   "cell_type": "code",
   "execution_count": 33,
   "id": "346bac22-169b-49dc-b59b-845d51188067",
   "metadata": {},
   "outputs": [
    {
     "name": "stdout",
     "output_type": "stream",
     "text": [
      "Sample arrays:\n",
      "Array 1:\n",
      "[[0 1 3]\n",
      " [5 7 9]]\n",
      "Array 2:\n",
      "[[ 0  2  4]\n",
      " [ 6  8 10]]\n",
      "\n",
      "Expected Output:\n",
      "[[ 0  1  3  0  2  4]\n",
      " [ 5  7  9  6  8 10]]\n"
     ]
    }
   ],
   "source": [
    "a = np.array([[0, 1, 3], [5, 7, 9]])\n",
    "b = np.array([[0, 2, 4], [6, 8, 10]])\n",
    "concatenated_array = np.concatenate((a, b), axis=1)\n",
    "print(\"Sample arrays:\")\n",
    "print(\"Array 1:\")\n",
    "print(a)\n",
    "print(\"Array 2:\")\n",
    "print(b)\n",
    "print(\"\\nExpected Output:\")\n",
    "print(concatenated_array)"
   ]
  },
  {
   "cell_type": "markdown",
   "id": "002987ad-92e7-41e4-8087-5024e9ff4a1c",
   "metadata": {},
   "source": [
    "21. Write a Python program to make an array immutable (read-only). Expected Output: \n",
    "Test the array is read-only or not: \n",
    "Try to change the value of the first element: \n",
    "Traceback (most recent call last): \n",
    "File \"19236bd0-0bd9-11e7-a232-c706d0968eb6.py\", line 6, in \n",
    "x[0] = 1 \n",
    "ValueError: assignment destination is read-only "
   ]
  },
  {
   "cell_type": "code",
   "execution_count": 22,
   "id": "b910b9c7-6bb3-4c88-b68b-e1bacae24668",
   "metadata": {},
   "outputs": [
    {
     "name": "stdout",
     "output_type": "stream",
     "text": [
      "Test the array is read-only or not:\n",
      "Is the array read-only? True\n",
      "Try to change the value of the first element:\n",
      "Error: assignment destination is read-only\n"
     ]
    }
   ],
   "source": [
    "a = np.array([0, 1, 2, 3, 4])\n",
    "# Make the array read-only\n",
    "a.flags.writeable = False\n",
    "print(\"Test the array is read-only or not:\")\n",
    "print(\"Is the array read-only?\", not a.flags.writeable)\n",
    "try:\n",
    "    print(\"Try to change the value of the first element:\")\n",
    "    a[0] = 1 \n",
    "except ValueError as e:\n",
    "    print(\"Error:\", e)\n"
   ]
  },
  {
   "cell_type": "markdown",
   "id": "0fb169f7-21d1-4e82-8021-6aad7fd424f3",
   "metadata": {},
   "source": [
    "22. Write a Python program to create an array of (3, 4) shape, multiply every element value by 3 and display the new array. \n",
    "Expected Output: \n",
    "Original array elements: \n",
    "[[ 0 1 2 3] \n",
    "[ 4 5 6 7] \n",
    "[ 8 9 10 11]] \n",
    "New array elements: \n",
    "[[ 0 3 6 9] \n",
    "[12 15 18 21] \n",
    "[24 27 30 33]] "
   ]
  },
  {
   "cell_type": "code",
   "execution_count": 23,
   "id": "5099a922-c1c4-4cb0-9ac9-122cf2df7c06",
   "metadata": {},
   "outputs": [
    {
     "name": "stdout",
     "output_type": "stream",
     "text": [
      "[[ 0  3  6  9]\n",
      " [12 15 18 21]\n",
      " [24 27 30 33]]\n"
     ]
    }
   ],
   "source": [
    "a = np.array([[ 0 ,1 ,2 ,3], [ 4 ,5 ,6 ,7], [ 8 ,9 ,10 ,11]])\n",
    "print(a*3)"
   ]
  },
  {
   "cell_type": "markdown",
   "id": "245649fc-c5c5-4c4b-9988-acad655c4d21",
   "metadata": {},
   "source": [
    "23. Write a Python program to convert a NumPy array into Python list structure. Expected Output: \n",
    "Original array elements: \n",
    "[[0 1] \n",
    "[2 3] \n",
    "[4 5]] \n",
    "Array to list: \n",
    "[[0, 1], [2, 3], [4, 5]] "
   ]
  },
  {
   "cell_type": "code",
   "execution_count": 24,
   "id": "f1a15a4e-7559-4cc3-85ae-9fd49a387312",
   "metadata": {},
   "outputs": [
    {
     "name": "stdout",
     "output_type": "stream",
     "text": [
      "Original array elements:\n",
      "[[0 1]\n",
      " [2 3]\n",
      " [4 5]]\n",
      "\n",
      "Array to list:\n",
      "[[0, 1], [2, 3], [4, 5]]\n"
     ]
    }
   ],
   "source": [
    "a = np.array([[0, 1], [2, 3], [4, 5]])\n",
    "print(\"Original array elements:\")\n",
    "print(a)\n",
    "lst = a.tolist()\n",
    "print(\"\\nArray to list:\")\n",
    "print(lst)"
   ]
  },
  {
   "cell_type": "markdown",
   "id": "e99451df-75fc-4a0a-9e51-a142ab3b7107",
   "metadata": {},
   "source": [
    "24. Write a Python program to convert a NumPy array into Python list structure. \n",
    "Original array elements: \n",
    "[ 0.26153123 0.52760141 0.5718299 0.5927067 0.7831874 0.69746349 0.35399976 0.99469633 0.0694458 0.54711478] \n",
    "Print array values with precision 3:\n",
    "Expected Output:\n",
    "[ 0.262 0.528 0.572 0.593 0.783 0.697 0.354 0.995 0.069 0.547] "
   ]
  },
  {
   "cell_type": "code",
   "execution_count": 25,
   "id": "5ea5accb-a779-47d5-81e3-205ea4e46662",
   "metadata": {},
   "outputs": [
    {
     "name": "stdout",
     "output_type": "stream",
     "text": [
      "[0.262 0.528 0.572 0.593 0.783 0.697 0.354 0.995 0.069 0.547]\n"
     ]
    }
   ],
   "source": [
    "a = np.array([ 0.26153123, 0.52760141, 0.5718299, 0.5927067, 0.7831874, 0.69746349, 0.35399976, 0.99469633, 0.0694458, 0.54711478] )\n",
    "np.set_printoptions(precision=3)\n",
    "print(a)"
   ]
  },
  {
   "cell_type": "markdown",
   "id": "ae98459c-24b2-4946-844c-8b064037a447",
   "metadata": {},
   "source": [
    "25. Write a Python program to suppresses the use of scientific notation for small numbers in numpy array. \n",
    "Expected Output: \n",
    "Original array elements: \n",
    "[ 1.60000000e-10 1.60000000e+00 1.20000000e+03 2.35000000e-01] \n",
    "Print array values with precision 3: \n",
    "[ 0. 1.6 1200. 0.235] "
   ]
  },
  {
   "cell_type": "code",
   "execution_count": 26,
   "id": "d2a46b49-07bc-47a9-9558-b6e8ce171f86",
   "metadata": {},
   "outputs": [
    {
     "name": "stdout",
     "output_type": "stream",
     "text": [
      "[   0.       1.6   1200.       0.235]\n"
     ]
    }
   ],
   "source": [
    "a = np.array([ 1.60000000e-10, 1.60000000e+00, 1.20000000e+03, 2.35000000e-01] )\n",
    "np.set_printoptions(suppress=True,precision=3)\n",
    "print(a)"
   ]
  },
  {
   "cell_type": "markdown",
   "id": "9eb6f556-9b7a-49da-bdc9-fc29fa4578f2",
   "metadata": {},
   "source": [
    "26. Write a Python program to how to add an extra column to an numpy array. \n",
    "Expected Output: \n",
    "[[ 10 20 30 100] \n",
    "[ 40 50 60 200]] "
   ]
  },
  {
   "cell_type": "code",
   "execution_count": 27,
   "id": "50f21d6a-4824-407e-ba9e-cc840160c502",
   "metadata": {},
   "outputs": [
    {
     "name": "stdout",
     "output_type": "stream",
     "text": [
      "Original array :  [[10 20 30]\n",
      " [40 50 60]]\n",
      "New Array : \n",
      " [[ 10  20  30 100]\n",
      " [ 40  50  60 200]]\n"
     ]
    }
   ],
   "source": [
    "a = np.array([[10, 20, 30], [40, 50, 60]])\n",
    "print(\"Original array : \",a)\n",
    "col = np.array([[100], [200]])\n",
    "b = np.hstack((a, col))\n",
    "print(\"New Array : \\n\",b)"
   ]
  },
  {
   "cell_type": "raw",
   "id": "ba940872-105b-435f-96c5-8746328dcdd4",
   "metadata": {},
   "source": [
    "27. Write a Python program to remove specific elements in a numpy array. \n",
    "Expected Output: \n",
    "Original array: \n",
    "[ 10 20 30 40 50 60 70 80 90 100] \n",
    "Delete first, fourth and fifth elements: \n",
    "[ 20 30 60 70 80 90 100]"
   ]
  },
  {
   "cell_type": "code",
   "execution_count": 28,
   "id": "b62b09e4-6d53-4368-b426-6ef3225d4881",
   "metadata": {},
   "outputs": [
    {
     "name": "stdout",
     "output_type": "stream",
     "text": [
      "Original array:\n",
      "[ 10  20  30  40  50  60  70  80  90 100]\n",
      "\n",
      "Delete first, fourth and fifth elements:\n",
      "[ 20  30  60  70  80  90 100]\n"
     ]
    }
   ],
   "source": [
    "a = np.array([10, 20, 30, 40, 50, 60, 70, 80, 90, 100])\n",
    "print(\"Original array:\")\n",
    "print(a)\n",
    "indices_to_delete = [0, 3, 4]\n",
    "b = np.delete(a, indices_to_delete)\n",
    "print(\"\\nDelete first, fourth and fifth elements:\")\n",
    "print(b)\n"
   ]
  },
  {
   "cell_type": "code",
   "execution_count": null,
   "id": "a4329009-6748-4fca-8708-e8fb7ba73738",
   "metadata": {},
   "outputs": [
    {
     "ename": "",
     "evalue": "",
     "output_type": "error",
     "traceback": [
      "\u001b[1;31mThe kernel failed to start as 'has_suggestion' could not be imported from 'c:\\hp\\ana_conda\\lib\\site-packages\\prompt_toolkit\\filters\\__init__.py'.\n",
      "\u001b[1;31mClick <a href='https://aka.ms/kernelFailuresModuleImportErrFromFile'>here</a> for more info."
     ]
    }
   ],
   "source": [
    "def numSquareSum(n):\n",
    "    num = 0\n",
    "    while(n):\n",
    "        digit = n % 10\n",
    "        num = num + digit*digit\n",
    "        n = n // 10\n",
    "    return num\n",
    "\n",
    "\n",
    "def isHappyNumber(n):\n",
    "    st = set()\n",
    "    while (1):\n",
    "        n = numSquareSum(n)\n",
    "        if (n == 1):\n",
    "            return True\n",
    "        if n not in st:\n",
    "            return False\n",
    "        st.insert(n)\n",
    "n=int(input())\n",
    "y=isHappyNumber(n)"
   ]
  },
  {
   "cell_type": "code",
   "execution_count": null,
   "id": "00541bbe",
   "metadata": {},
   "outputs": [],
   "source": []
  }
 ],
 "metadata": {
  "kernelspec": {
   "display_name": "base",
   "language": "python",
   "name": "python3"
  },
  "language_info": {
   "codemirror_mode": {
    "name": "ipython",
    "version": 3
   },
   "file_extension": ".py",
   "mimetype": "text/x-python",
   "name": "python",
   "nbconvert_exporter": "python",
   "pygments_lexer": "ipython3",
   "version": "3.10.9"
  }
 },
 "nbformat": 4,
 "nbformat_minor": 5
}
