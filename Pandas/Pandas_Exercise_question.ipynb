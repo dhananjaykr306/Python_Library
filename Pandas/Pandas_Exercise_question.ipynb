{
 "cells": [
  {
   "cell_type": "code",
   "execution_count": null,
   "id": "4397af8c",
   "metadata": {},
   "outputs": [],
   "source": [
    "'''\n",
    "    @Author: Dhananjay Kumar\n",
    "    @Date: 12-11-2024\n",
    "    @Last Modified by: Dhananjay Kumar\n",
    "    @Last Modified time: 12-11-2024\n",
    "    @Description: Pandas Exercise Question\n",
    "'''"
   ]
  },
  {
   "cell_type": "code",
   "execution_count": 1,
   "id": "9c5a4a34-a350-4f20-8282-fa96faf85c88",
   "metadata": {},
   "outputs": [],
   "source": [
    "import pandas as pd\n",
    "import numpy as np"
   ]
  },
  {
   "cell_type": "markdown",
   "id": "ee89f1fb-0387-41ef-9ef9-bb57c5882686",
   "metadata": {},
   "source": [
    "- 1.Write a Python program to create and display a one-dimensional array-like object containing an array of data using Pandas module. "
   ]
  },
  {
   "cell_type": "code",
   "execution_count": 24,
   "id": "976f09fd-0cb0-431c-a8ec-7a5610095619",
   "metadata": {},
   "outputs": [
    {
     "name": "stdout",
     "output_type": "stream",
     "text": [
      "1    10\n",
      "2    20\n",
      "3    30\n",
      "4    40\n",
      "5    50\n",
      "dtype: int64\n",
      "Index([1, 2, 3, 4, 5], dtype='int64')\n",
      "1    10\n",
      "2    20\n",
      "dtype: int64\n",
      "4    40\n",
      "5    50\n",
      "dtype: int64\n",
      "(5,)\n",
      "<class 'pandas.core.series.Series'>\n",
      "Index: 5 entries, 1 to 5\n",
      "Series name: None\n",
      "Non-Null Count  Dtype\n",
      "--------------  -----\n",
      "5 non-null      int64\n",
      "dtypes: int64(1)\n",
      "memory usage: 80.0 bytes\n",
      "None\n",
      "count     5.000000\n",
      "mean     30.000000\n",
      "std      15.811388\n",
      "min      10.000000\n",
      "25%      20.000000\n",
      "50%      30.000000\n",
      "75%      40.000000\n",
      "max      50.000000\n",
      "dtype: float64\n",
      "mean :  30.0\n",
      "median :  30.0\n",
      "mode: \n",
      " 0    10\n",
      "1    20\n",
      "2    30\n",
      "3    40\n",
      "4    50\n",
      "dtype: int64\n",
      "Std dev :\n",
      " 15.811388300841896\n",
      "Count : \n",
      " 5\n",
      "Var :\n",
      " 250.0\n",
      "min :  30.0\n",
      "max : 50\n",
      "25percentile 20.0\n",
      "75percentile 40.0\n",
      "50percentile 30.0\n",
      "Sum 150\n",
      "Product : 12000000\n"
     ]
    }
   ],
   "source": [
    "a = [10,20,30,40,50]\n",
    "s = pd.Series(a,index=[1,2,3,4,5])\n",
    "print(s)\n",
    "print(s.index)\n",
    "print(s.head(2))\n",
    "print(s.tail(2))\n",
    "print(s.shape)\n",
    "print(s.info())\n",
    "print(s.describe())\n",
    "print(\"mean : \",s.mean())\n",
    "print(\"median : \",s.median())\n",
    "print(\"mode: \\n\",s.mode())\n",
    "print(\"Std dev :\\n\",s.std())\n",
    "print(\"Count : \\n\",s.count())\n",
    "print(\"Var :\\n\",s.var())\n",
    "print(\"min : \",s.mean())\n",
    "print(\"max :\",s.max())\n",
    "print(\"25percentile\",s.quantile(0.25))\n",
    "print(\"75percentile\",s.quantile(0.75))\n",
    "print(\"50percentile\",s.quantile(0.5))\n",
    "print(\"Sum\",s.sum())\n",
    "print(\"Product :\",s.prod())"
   ]
  },
  {
   "cell_type": "markdown",
   "id": "29064652-3dff-46e2-996f-c1b1cfeda0cc",
   "metadata": {},
   "source": [
    "- 2. Write a Python program to convert a Panda module Series to Python list and it's type. "
   ]
  },
  {
   "cell_type": "code",
   "execution_count": 27,
   "id": "d154f742-cb13-4f32-9592-b77bf8ecd087",
   "metadata": {},
   "outputs": [
    {
     "name": "stdout",
     "output_type": "stream",
     "text": [
      "[10, 20, 30, 40, 50]\n"
     ]
    }
   ],
   "source": [
    "a = s.tolist()\n",
    "print(a)"
   ]
  },
  {
   "cell_type": "markdown",
   "id": "cd1262ba-deff-4a38-8aa9-f1cdfdf905ca",
   "metadata": {},
   "source": [
    "-  3. Write a Python program to add, subtract, multiple and divide two Pandas Series. Sample Series: [2, 4, 6, 8, 10], [1, 3, 5, 7, 9] "
   ]
  },
  {
   "cell_type": "code",
   "execution_count": 36,
   "id": "c29e1df3-ee93-4875-b902-94310c3a66cd",
   "metadata": {},
   "outputs": [
    {
     "name": "stdout",
     "output_type": "stream",
     "text": [
      "Addition : \n",
      " 0     3\n",
      "1     7\n",
      "2    11\n",
      "3    15\n",
      "4    19\n",
      "dtype: int64\n",
      "Difference :\n",
      " 0    1\n",
      "1    1\n",
      "2    1\n",
      "3    1\n",
      "4    1\n",
      "dtype: int64\n",
      "Product : \n",
      " 0     2\n",
      "1    12\n",
      "2    30\n",
      "3    56\n",
      "4    90\n",
      "dtype: int64\n",
      "Division :\n",
      " 0    2.000000\n",
      "1    1.333333\n",
      "2    1.200000\n",
      "3    1.142857\n",
      "4    1.111111\n",
      "dtype: float64\n"
     ]
    }
   ],
   "source": [
    "a=[2, 4, 6, 8, 10] \n",
    "b=[1, 3, 5, 7, 9] \n",
    "s1=pd.Series(a)\n",
    "s2=pd.Series(b)\n",
    "print(\"Addition : \\n\",s1+s2)\n",
    "print(\"Difference :\\n\",s1-s2)\n",
    "print(\"Product : \\n\",s1*s2)\n",
    "print(\"Division :\\n\",s1/s2)"
   ]
  },
  {
   "cell_type": "markdown",
   "id": "f8648326-1eca-45c2-8ba9-13e10cf3af60",
   "metadata": {},
   "source": [
    "- 4. Write a Python program to get the powers of an array values element-wise. Note: First array elements raised to powers from second array \n",
    "Expected Output: \n",
    "Original array \n",
    "[0 1 2 3 4 5 6]\n",
    "First array elements raised to powers from second array, element-wise: \n",
    "[ 0 1 8 27 64 125 216] \n"
   ]
  },
  {
   "cell_type": "code",
   "execution_count": 38,
   "id": "44506f36-dc34-4fef-9ab7-973851dfc7fe",
   "metadata": {},
   "outputs": [
    {
     "name": "stdout",
     "output_type": "stream",
     "text": [
      "Original Array : \n",
      " [0, 1, 2, 3, 4, 5, 6]\n",
      "Raised Power array : \n",
      " [0, 1, 8, 27, 64, 125, 216]\n"
     ]
    }
   ],
   "source": [
    "a = [0,1,2,3,4,5,6]\n",
    "print(\"Original Array : \\n\",a)\n",
    "b=[]\n",
    "for i in a:\n",
    "    k=i**3\n",
    "    b.append(k)\n",
    "print(\"Raised Power array : \\n\",b)"
   ]
  },
  {
   "cell_type": "markdown",
   "id": "5a7fdb7b-e89e-487c-82be-940e2e89e469",
   "metadata": {},
   "source": [
    "5. Write a Python program to create and display a DataFrame from a specified dictionary data which has the index labels. \n",
    "Sample Python dictionary data and list labels: \n",
    "exam_data =\n",
    "         {'name': ['Anastasia', 'Dima', 'Katherine', 'James', 'Emily', 'Michael', 'Matthew', 'Laura', 'Kevin', 'Jonas'], \n",
    "          'score': [12.5, 9, 16.5, np.nan, 9, 20, 14.5, np.nan, 8, 19], \n",
    "          'attempts': [1, 3, 2, 3, 2, 3, 1, 1, 2, 1], \n",
    "          'qualify': ['yes', 'no', 'yes', 'no', 'no', 'yes', 'yes', 'no', 'no', 'yes'] \n",
    "           }"
   ]
  },
  {
   "cell_type": "code",
   "execution_count": 54,
   "id": "77bd8596-be7e-41e2-91b6-868e621c3841",
   "metadata": {},
   "outputs": [
    {
     "name": "stdout",
     "output_type": "stream",
     "text": [
      "        name  score  attempts qualify\n",
      "a  Anastasia   12.5         1     yes\n",
      "b       Dima    9.0         3      no\n",
      "c  Katherine   16.5         2     yes\n",
      "d      James    NaN         3      no\n",
      "e      Emily    9.0         2      no\n",
      "f    Michael   20.0         3     yes\n",
      "g    Matthew   14.5         1     yes\n",
      "h      Laura    NaN         1      no\n",
      "i      Kevin    8.0         2      no\n",
      "j      Jonas   19.0         1     yes\n",
      "<class 'pandas.core.frame.DataFrame'>\n",
      "Index: 10 entries, a to j\n",
      "Data columns (total 4 columns):\n",
      " #   Column    Non-Null Count  Dtype  \n",
      "---  ------    --------------  -----  \n",
      " 0   name      10 non-null     object \n",
      " 1   score     8 non-null      float64\n",
      " 2   attempts  10 non-null     int64  \n",
      " 3   qualify   10 non-null     object \n",
      "dtypes: float64(1), int64(1), object(2)\n",
      "memory usage: 400.0+ bytes\n"
     ]
    }
   ],
   "source": [
    "exam_data = {\n",
    "          'name' : ['Anastasia', 'Dima', 'Katherine', 'James', 'Emily', 'Michael', 'Matthew', 'Laura', 'Kevin', 'Jonas'], \n",
    "          'score' : [12.5, 9, 16.5, np.nan, 9, 20, 14.5, np.nan, 8, 19], \n",
    "          'attempts': [1, 3, 2, 3, 2, 3, 1, 1, 2, 1], \n",
    "          'qualify': ['yes', 'no', 'yes', 'no', 'no', 'yes', 'yes', 'no', 'no', 'yes'],\n",
    "           }\n",
    "labels = ['a', 'b', 'c', 'd', 'e', 'f', 'g', 'h', 'i', 'j']\n",
    "\n",
    "# Create DataFrame\n",
    "df = pd.DataFrame(exam_data,index=labels)\n",
    "\n",
    "# Display DataFrame\n",
    "print(df)"
   ]
  },
  {
   "cell_type": "markdown",
   "id": "d3179619-1251-42a1-8638-86c63b3eb733",
   "metadata": {},
   "source": [
    "6. Write a Python program to display a summary of the basic information about a specified Data Frame and its data. \n",
    "Sample Python dictionary data and list labels: \n",
    "exam_data = {'name': ['Anastasia', 'Dima', 'Katherine', 'James', 'Emily', 'Michael', 'Matthew', 'Laura', 'Kevin', 'Jonas'], \n",
    "'score': [12.5, 9, 16.5, np.nan, 9, 20, 14.5, np.nan, 8, 19], \n",
    "'attempts': [1, 3, 2, 3, 2, 3, 1, 1, 2, 1], \n",
    "'qualify': ['yes', 'no', 'yes', 'no', 'no', 'yes', 'yes', 'no', 'no', 'yes']} \n",
    "labels = ['a', 'b', 'c', 'd', 'e', 'f', 'g', 'h', 'i', 'j'] \n"
   ]
  },
  {
   "cell_type": "code",
   "execution_count": 68,
   "id": "f2da7eea-641a-4ee9-acf3-071ecc76b1ee",
   "metadata": {},
   "outputs": [
    {
     "name": "stdout",
     "output_type": "stream",
     "text": [
      "<class 'pandas.core.frame.DataFrame'>\n",
      "Index: 10 entries, a to j\n",
      "Data columns (total 4 columns):\n",
      " #   Column    Non-Null Count  Dtype  \n",
      "---  ------    --------------  -----  \n",
      " 0   name      10 non-null     object \n",
      " 1   score     8 non-null      float64\n",
      " 2   attempts  10 non-null     int64  \n",
      " 3   qualify   10 non-null     object \n",
      "dtypes: float64(1), int64(1), object(2)\n",
      "memory usage: 400.0+ bytes\n",
      "\n",
      " Basic Information : \n",
      " None\n",
      "\n",
      " Statiscal Summary :\n",
      "              name      score   attempts qualify\n",
      "count          10   8.000000  10.000000      10\n",
      "unique         10        NaN        NaN       2\n",
      "top     Anastasia        NaN        NaN     yes\n",
      "freq            1        NaN        NaN       5\n",
      "mean          NaN  13.562500   1.900000     NaN\n",
      "std           NaN   4.693746   0.875595     NaN\n",
      "min           NaN   8.000000   1.000000     NaN\n",
      "25%           NaN   9.000000   1.000000     NaN\n",
      "50%           NaN  13.500000   2.000000     NaN\n",
      "75%           NaN  17.125000   2.750000     NaN\n",
      "max           NaN  20.000000   3.000000     NaN\n",
      "Top 5 Rows Data :\n",
      "         name  score  attempts qualify\n",
      "a  Anastasia   12.5         1     yes\n",
      "b       Dima    9.0         3      no\n",
      "c  Katherine   16.5         2     yes\n",
      "d      James    NaN         3      no\n",
      "e      Emily    9.0         2      no\n"
     ]
    }
   ],
   "source": [
    "exam_data = {\n",
    "         'name': ['Anastasia', 'Dima', 'Katherine', 'James', 'Emily', 'Michael', 'Matthew', 'Laura', 'Kevin', 'Jonas'], \n",
    "         'score': [12.5, 9, 16.5, np.nan, 9, 20, 14.5, np.nan, 8, 19], \n",
    "         'attempts': [1, 3, 2, 3, 2, 3, 1, 1, 2, 1], \n",
    "         'qualify': ['yes', 'no', 'yes', 'no', 'no', 'yes', 'yes', 'no', 'no', 'yes']\n",
    "        } \n",
    "labels = ['a', 'b', 'c', 'd', 'e', 'f', 'g', 'h', 'i', 'j'] \n",
    "\n",
    "df = pd.DataFrame(exam_data,labels)\n",
    "print(\"\\n Basic Information : \\n\",df.info())\n",
    "\n",
    "print(\"\\n Statiscal Summary :\\n\",df.describe(include='all'))\n",
    "\n",
    "print(\"Top 5 Rows Data :\\n\",df.head())"
   ]
  },
  {
   "cell_type": "markdown",
   "id": "048cbf1c-39c1-44b9-ad80-9aa6b8075e03",
   "metadata": {},
   "source": [
    "7. Write a Python program to get the first 3 rows of a given DataFrame. \n",
    "Sample Python dictionary data and list labels: \n",
    "exam_data = {'name': ['Anastasia', 'Dima', 'Katherine', 'James', 'Emily', 'Michael', 'Matthew', 'Laura', 'Kevin', 'Jonas'], \n",
    "'score': [12.5, 9, 16.5, np.nan, 9, 20, 14.5, np.nan, 8, 19], \n",
    "'attempts': [1, 3, 2, 3, 2, 3, 1, 1, 2, 1], \n",
    "'qualify': ['yes', 'no', 'yes', 'no', 'no', 'yes', 'yes', 'no', 'no', 'yes']} \n",
    "labels = ['a', 'b', 'c', 'd', 'e', 'f', 'g', 'h', 'i', 'j'] \n"
   ]
  },
  {
   "cell_type": "code",
   "execution_count": 70,
   "id": "62c81f6f-7c5a-4a47-bd9c-c9aec0dc5bce",
   "metadata": {},
   "outputs": [
    {
     "name": "stdout",
     "output_type": "stream",
     "text": [
      "first 3 rows of DataFrame :\n",
      "         name  score  attempts qualify\n",
      "a  Anastasia   12.5         1     yes\n",
      "b       Dima    9.0         3      no\n",
      "c  Katherine   16.5         2     yes\n"
     ]
    }
   ],
   "source": [
    "exam_data = {\n",
    "         'name': ['Anastasia', 'Dima', 'Katherine', 'James', 'Emily', 'Michael', 'Matthew', 'Laura', 'Kevin', 'Jonas'], \n",
    "         'score': [12.5, 9, 16.5, np.nan, 9, 20, 14.5, np.nan, 8, 19], \n",
    "         'attempts': [1, 3, 2, 3, 2, 3, 1, 1, 2, 1], \n",
    "         'qualify': ['yes', 'no', 'yes', 'no', 'no', 'yes', 'yes', 'no', 'no', 'yes']\n",
    "        } \n",
    "labels = ['a', 'b', 'c', 'd', 'e', 'f', 'g', 'h', 'i', 'j'] \n",
    "\n",
    "df = pd.DataFrame(exam_data,labels)\n",
    "\n",
    "# Display first 3 rows of data\n",
    "print(\"first 3 rows of DataFrame :\\n\",df.head(3))"
   ]
  },
  {
   "cell_type": "markdown",
   "id": "6ef3a4e2-f681-4ea1-8e2f-99318c95ef47",
   "metadata": {},
   "source": [
    "8. Write a Python program to select the 'name' and 'score' columns from the following DataFrame. \n",
    "Sample Python dictionary data and list labels: \n",
    "exam_data = {'name': ['Anastasia', 'Dima', 'Katherine', 'James', 'Emily', 'Michael', 'Matthew', 'Laura', 'Kevin', 'Jonas'], \n",
    "'score': [12.5, 9, 16.5, np.nan, 9, 20, 14.5, np.nan, 8, 19], \n",
    "'attempts': [1, 3, 2, 3, 2, 3, 1, 1, 2, 1], \n",
    "'qualify': ['yes', 'no', 'yes', 'no', 'no', 'yes', 'yes', 'no', 'no', 'yes']}\n",
    "labels = ['a', 'b', 'c', 'd', 'e', 'f', 'g', 'h', 'i', 'j'] "
   ]
  },
  {
   "cell_type": "code",
   "execution_count": 72,
   "id": "5e507b11-82bc-4772-9976-adeb5580a015",
   "metadata": {},
   "outputs": [
    {
     "name": "stdout",
     "output_type": "stream",
     "text": [
      "        name  score\n",
      "a  Anastasia   12.5\n",
      "b       Dima    9.0\n",
      "c  Katherine   16.5\n",
      "d      James    NaN\n",
      "e      Emily    9.0\n"
     ]
    }
   ],
   "source": [
    "exam_data = {\n",
    "        'name': ['Anastasia', 'Dima', 'Katherine', 'James', 'Emily', 'Michael', 'Matthew', 'Laura', 'Kevin', 'Jonas'], \n",
    "        'score': [12.5, 9, 16.5, np.nan, 9, 20, 14.5, np.nan, 8, 19], \n",
    "        'attempts': [1, 3, 2, 3, 2, 3, 1, 1, 2, 1], \n",
    "        'qualify': ['yes', 'no', 'yes', 'no', 'no', 'yes', 'yes', 'no', 'no', 'yes']\n",
    "            }\n",
    "labels = ['a', 'b', 'c', 'd', 'e', 'f', 'g', 'h', 'i', 'j'] \n",
    "\n",
    "# Create a DataFrame\n",
    "df = pd.DataFrame(exam_data,labels)\n",
    "df1 = df[['name','score']]\n",
    "print(df1.head())"
   ]
  },
  {
   "cell_type": "markdown",
   "id": "85928363-f609-4e04-81b4-7cd5c6b45cc2",
   "metadata": {},
   "source": [
    "9. Write a Python program to select the specified columns and rows from a given data frame. \n",
    "Select 'name' and 'score' columns in rows 1, 3, 5, 6 from the following data frame.\n",
    "exam_data = {'name': ['Anastasia', 'Dima', 'Katherine', 'James', 'Emily', 'Michael', 'Matthew', 'Laura', 'Kevin', 'Jonas'], \n",
    "'score': [12.5, 9, 16.5, np.nan, 9, 20, 14.5, np.nan, 8, 19], \n",
    "'attempts': [1, 3, 2, 3, 2, 3, 1, 1, 2, 1], \n",
    "'qualify': ['yes', 'no', 'yes', 'no', 'no', 'yes', 'yes', 'no', 'no', 'yes']} \n",
    "labels = ['a', 'b', 'c', 'd', 'e', 'f', 'g', 'h', 'i', 'j'] \n"
   ]
  },
  {
   "cell_type": "code",
   "execution_count": 81,
   "id": "63a33aa8-498a-4f5c-8914-c16c9a9a5af4",
   "metadata": {},
   "outputs": [
    {
     "name": "stdout",
     "output_type": "stream",
     "text": [
      "        name  score\n",
      "a  Anastasia   12.5\n",
      "c  Katherine   16.5\n",
      "e      Emily    9.0\n",
      "f    Michael   20.0\n"
     ]
    }
   ],
   "source": [
    "exam_data = {\n",
    "        'name': ['Anastasia', 'Dima', 'Katherine', 'James', 'Emily', 'Michael', 'Matthew', 'Laura', 'Kevin', 'Jonas'], \n",
    "        'score': [12.5, 9, 16.5, np.nan, 9, 20, 14.5, np.nan, 8, 19], \n",
    "        'attempts': [1, 3, 2, 3, 2, 3, 1, 1, 2, 1], \n",
    "        'qualify': ['yes', 'no', 'yes', 'no', 'no', 'yes', 'yes', 'no', 'no', 'yes']\n",
    "            }\n",
    "labels = ['a', 'b', 'c', 'd', 'e', 'f', 'g', 'h', 'i', 'j'] \n",
    "\n",
    "# Create a DataFrame\n",
    "df = pd.DataFrame(exam_data,labels)\n",
    "# specific_row_DataFrame\n",
    "df1 = df.loc[['a','c','e','f'],['name','score']]\n",
    "print(df1.head())\n",
    "# specific_row_DataFrame"
   ]
  },
  {
   "cell_type": "markdown",
   "id": "1ddbd6a5-dcf4-4f32-8ec3-840c199d12d9",
   "metadata": {},
   "source": [
    "10. Write a Python program to select the rows where the number of attempts in the examination is greater than 2. \n",
    "exam_data = {'name': ['Anastasia', 'Dima', 'Katherine', 'James', 'Emily', 'Michael', 'Matthew', 'Laura', 'Kevin', 'Jonas'], \n",
    "'score': [12.5, 9, 16.5, np.nan, 9, 20, 14.5, np.nan, 8, 19], \n",
    "'attempts': [1, 3, 2, 3, 2, 3, 1, 1, 2, 1], \n",
    "'qualify': ['yes', 'no', 'yes', 'no', 'no', 'yes', 'yes', 'no', 'no', 'yes']} \n",
    "labels = ['a', 'b', 'c', 'd', 'e', 'f', 'g', 'h', 'i', 'j'] \n"
   ]
  },
  {
   "cell_type": "code",
   "execution_count": 84,
   "id": "fe521bbd-d237-42dd-b060-fd44a9632b3d",
   "metadata": {},
   "outputs": [
    {
     "name": "stdout",
     "output_type": "stream",
     "text": [
      "      name  score  attempts qualify\n",
      "b     Dima    9.0         3      no\n",
      "d    James    NaN         3      no\n",
      "f  Michael   20.0         3     yes\n"
     ]
    }
   ],
   "source": [
    "exam_data = {\n",
    "        'name': ['Anastasia', 'Dima', 'Katherine', 'James', 'Emily', 'Michael', 'Matthew', 'Laura', 'Kevin', 'Jonas'], \n",
    "        'score': [12.5, 9, 16.5, np.nan, 9, 20, 14.5, np.nan, 8, 19], \n",
    "        'attempts': [1, 3, 2, 3, 2, 3, 1, 1, 2, 1], \n",
    "        'qualify': ['yes', 'no', 'yes', 'no', 'no', 'yes', 'yes', 'no', 'no', 'yes']\n",
    "            }\n",
    "labels = ['a', 'b', 'c', 'd', 'e', 'f', 'g', 'h', 'i', 'j'] \n",
    "\n",
    "# Create a DataFrame\n",
    "df = pd.DataFrame(exam_data,labels)\n",
    "\n",
    "df1 = df[df['attempts']>2]\n",
    "print(df1.head())"
   ]
  },
  {
   "cell_type": "markdown",
   "id": "0911a21c-9fe8-48f6-8de1-65af834f277b",
   "metadata": {},
   "source": [
    "11. Write a Python program to count the number of rows and columns of a DataFrame. Sample data: \n",
    "exam_data = {'name': ['Anastasia', 'Dima', 'Katherine', 'James', 'Emily', 'Michael', 'Matthew', 'Laura', 'Kevin', 'Jonas'], \n",
    "'score': [12.5, 9, 16.5, np.nan, 9, 20, 14.5, np.nan, 8, 19], \n",
    "'attempts': [1, 3, 2, 3, 2, 3, 1, 1, 2, 1], \n",
    "'qualify': ['yes', 'no', 'yes', 'no', 'no', 'yes', 'yes', 'no', 'no', 'yes']} \n",
    "labels = ['a', 'b', 'c', 'd', 'e', 'f', 'g', 'h', 'i', 'j'] "
   ]
  },
  {
   "cell_type": "code",
   "execution_count": 85,
   "id": "f8ad8a9f-8e4d-4034-9811-62f353715feb",
   "metadata": {},
   "outputs": [
    {
     "name": "stdout",
     "output_type": "stream",
     "text": [
      "no. of rows in DataFrame :  10\n",
      "no. of columns in DataFrame :  4\n"
     ]
    }
   ],
   "source": [
    "exam_data = {\n",
    "        'name': ['Anastasia', 'Dima', 'Katherine', 'James', 'Emily', 'Michael', 'Matthew', 'Laura', 'Kevin', 'Jonas'], \n",
    "        'score': [12.5, 9, 16.5, np.nan, 9, 20, 14.5, np.nan, 8, 19], \n",
    "        'attempts': [1, 3, 2, 3, 2, 3, 1, 1, 2, 1], \n",
    "        'qualify': ['yes', 'no', 'yes', 'no', 'no', 'yes', 'yes', 'no', 'no', 'yes']\n",
    "            } \n",
    "labels = ['a', 'b', 'c', 'd', 'e', 'f', 'g', 'h', 'i', 'j'] \n",
    "\n",
    "df =pd.DataFrame(exam_data,labels)\n",
    "print(\"no. of rows in DataFrame : \",df.shape[0])\n",
    "print(\"no. of columns in DataFrame : \" ,df.shape[1])"
   ]
  },
  {
   "cell_type": "markdown",
   "id": "8356c235-46e3-4a96-9b08-649957e6fb66",
   "metadata": {},
   "source": [
    "- 12. Write a Python program to select the rows where the score is missing, i.e. is NaN. exam_data = {'name': ['Anastasia', 'Dima', 'Katherine', 'James', 'Emily', 'Michael', 'Matthew', 'Laura', 'Kevin', 'Jonas'], \n",
    "'score': [12.5, 9, 16.5, np.nan, 9, 20, 14.5, np.nan, 8, 19], \n",
    "'attempts': [1, 3, 2, 3, 2, 3, 1, 1, 2, 1], \n",
    "'qualify': ['yes', 'no', 'yes', 'no', 'no', 'yes', 'yes', 'no', 'no', 'yes']} \n",
    "labels = ['a', 'b', 'c', 'd', 'e', 'f', 'g', 'h', 'i', 'j']\n"
   ]
  },
  {
   "cell_type": "code",
   "execution_count": 3,
   "id": "099ec61e-dec4-4adb-84fb-7879bd4fdb02",
   "metadata": {},
   "outputs": [
    {
     "name": "stdout",
     "output_type": "stream",
     "text": [
      "    name  score  attempts qualify\n",
      "3  James    NaN         3      no\n",
      "7  Laura    NaN         1      no\n"
     ]
    }
   ],
   "source": [
    " exam_data = {\n",
    "                 'name': ['Anastasia', 'Dima', 'Katherine', 'James', 'Emily', 'Michael', 'Matthew', 'Laura', 'Kevin', 'Jonas'], \n",
    "                 'score': [12.5, 9, 16.5, np.nan, 9, 20, 14.5, np.nan, 8, 19], \n",
    "                 'attempts': [1, 3, 2, 3, 2, 3, 1, 1, 2, 1], \n",
    "                 'qualify': ['yes', 'no', 'yes', 'no', 'no', 'yes', 'yes', 'no', 'no', 'yes']\n",
    "             } \n",
    "labels = ['a', 'b', 'c', 'd', 'e', 'f', 'g', 'h', 'i', 'j']\n",
    "# Create DataFrame\n",
    "df = pd.DataFrame(exam_data)\n",
    "print(df[df['score'].isnull()])\n"
   ]
  },
  {
   "cell_type": "markdown",
   "id": "cca24d9c-a537-459c-857a-044fee21974e",
   "metadata": {},
   "source": [
    "- 13. Write a Python program to select the rows where number of attempts in the examination is less than 2 and score greater than 15. "
   ]
  },
  {
   "cell_type": "code",
   "execution_count": 119,
   "id": "a844e201-9367-4f81-a575-44997e4c926f",
   "metadata": {},
   "outputs": [
    {
     "name": "stdout",
     "output_type": "stream",
     "text": [
      "    name  score  attempts qualify\n",
      "9  Jonas   19.0         1     yes\n"
     ]
    }
   ],
   "source": [
    " exam_data = {\n",
    "                 'name': ['Anastasia', 'Dima', 'Katherine', 'James', 'Emily', 'Michael', 'Matthew', 'Laura', 'Kevin', 'Jonas'], \n",
    "                 'score': [12.5, 9, 16.5, np.nan, 9, 20, 14.5, np.nan, 8, 19], \n",
    "                 'attempts': [1, 3, 2, 3, 2, 3, 1, 1, 2, 1], \n",
    "                 'qualify': ['yes', 'no', 'yes', 'no', 'no', 'yes', 'yes', 'no', 'no', 'yes']\n",
    "             } \n",
    "labels = ['a', 'b', 'c', 'd', 'e', 'f', 'g', 'h', 'i', 'j']\n",
    "# Create DataFrame\n",
    "df = pd.DataFrame(exam_data)\n",
    "\n",
    "df1 = df[(df['attempts']<2) & (df['score']>15)]\n",
    "print(df1.head())"
   ]
  },
  {
   "cell_type": "markdown",
   "id": "61bb70f1-ce0a-4b53-8901-d91c740c060b",
   "metadata": {},
   "source": [
    "- 14. Write a Python program to change the score in row 'd' to 11.5. \n",
    "exam_data = {'name': ['Anastasia', 'Dima', 'Katherine', 'James', 'Emily', 'Michael', 'Matthew',\n",
    "'Laura', 'Kevin', 'Jonas'], \n",
    "'score': [12.5, 9, 16.5, np.nan, 9, 20, 14.5, np.nan, 8, 19], \n",
    "'attempts': [1, 3, 2, 3, 2, 3, 1, 1, 2, 1], \n",
    "'qualify': ['yes', 'no', 'yes', 'no', 'no', 'yes', 'yes', 'no', 'no', 'yes']} \n",
    "labels = ['a', 'b', 'c', 'd', 'e', 'f', 'g', 'h', 'i', 'j'] "
   ]
  },
  {
   "cell_type": "code",
   "execution_count": 137,
   "id": "2428762e-91d6-4e30-b96e-7d3f3af24ced",
   "metadata": {},
   "outputs": [
    {
     "name": "stdout",
     "output_type": "stream",
     "text": [
      "        name  score  attempts qualify\n",
      "a  Anastasia   12.5         1     yes\n",
      "b       Dima    9.0         3      no\n",
      "c  Katherine   16.5         2     yes\n",
      "d      James    NaN         3      no\n",
      "e      Emily    9.0         2      no\n",
      "        name  score  attempts qualify\n",
      "a  Anastasia   12.5       1.0       1\n",
      "b       Dima    9.0       3.0       0\n",
      "c  Katherine   16.5       2.0       1\n",
      "d      James    NaN       3.0       0\n",
      "e      Emily    9.0       2.0       0\n"
     ]
    }
   ],
   "source": [
    "exam_data = {\n",
    "            'name': ['Anastasia', 'Dima', 'Katherine', 'James', 'Emily', 'Michael', 'Matthew','Laura', 'Kevin', 'Jonas'], \n",
    "            'score': [12.5, 9, 16.5, np.nan, 9, 20, 14.5, np.nan, 8, 19], \n",
    "            'attempts': [1, 3, 2, 3, 2, 3, 1, 1, 2, 1], \n",
    "            'qualify': ['yes', 'no', 'yes', 'no', 'no', 'yes', 'yes', 'no', 'no', 'yes']\n",
    "} \n",
    "labels = ['a', 'b', 'c', 'd', 'e', 'f', 'g', 'h', 'i', 'j'] \n",
    "\n",
    "df = pd.DataFrame(exam_data,labels)\n",
    "print(df.head())\n",
    "df.at[3,'score']=11.5\n",
    "df.replace(\"no\",0,inplace=True)\n",
    "df.replace(\"yes\",1,inplace=True)\n",
    "print(df.head())"
   ]
  },
  {
   "cell_type": "markdown",
   "id": "85a520cc-f5ac-400d-ba33-e65dcb402a2e",
   "metadata": {},
   "source": [
    "- 15. Write a Python program to calculate the sum of the examination attempts by the students. \n",
    "exam_data = {'name': ['Anastasia', 'Dima', 'Katherine', 'James', 'Emily', 'Michael', 'Matthew', 'Laura', 'Kevin', 'Jonas'], \n",
    "'score': [12.5, 9, 16.5, np.nan, 9, 20, 14.5, np.nan, 8, 19], \n",
    "'attempts': [1, 3, 2, 3, 2, 3, 1, 1, 2, 1], \n",
    "'qualify': ['yes', 'no', 'yes', 'no', 'no', 'yes', 'yes', 'no', 'no', 'yes']} \n",
    "labels = ['a', 'b', 'c', 'd', 'e', 'f', 'g', 'h', 'i', 'j'] \n"
   ]
  },
  {
   "cell_type": "code",
   "execution_count": 148,
   "id": "6685789d-92f2-4383-bd71-9a909d69f4a5",
   "metadata": {},
   "outputs": [
    {
     "data": {
      "text/plain": [
       "attempts    19\n",
       "dtype: int64"
      ]
     },
     "execution_count": 148,
     "metadata": {},
     "output_type": "execute_result"
    }
   ],
   "source": [
    "exam_data = {'name': ['Anastasia', 'Dima', 'Katherine', 'James', 'Emily', 'Michael', 'Matthew', 'Laura', 'Kevin', 'Jonas'], \n",
    "'score': [12.5, 9, 16.5, np.nan, 9, 20, 14.5, np.nan, 8, 19], \n",
    "'attempts': [1, 3, 2, 3, 2, 3, 1, 1, 2, 1], \n",
    "'qualify': ['yes', 'no', 'yes', 'no', 'no', 'yes', 'yes', 'no', 'no', 'yes']} \n",
    "labels = ['a', 'b', 'c', 'd', 'e', 'f', 'g', 'h', 'i', 'j'] \n",
    "# Create DataFrame\n",
    "df = pd.DataFrame(exam_data)\n",
    "df1 = df[['attempts']]\n",
    "df1.sum()"
   ]
  },
  {
   "cell_type": "markdown",
   "id": "61aa5ca0-9f8d-4c15-93ee-66d843ea92e4",
   "metadata": {},
   "source": [
    "- 16. Write a Python program to calculate the mean score for each different student in DataFrame. \n",
    "exam_data = {'name': ['Anastasia', 'Dima', 'Katherine', 'James', 'Emily', 'Michael', 'Matthew', 'Laura', 'Kevin', 'Jonas'], \n",
    "'score': [12.5, 9, 16.5, np.nan, 9, 20, 14.5, np.nan, 8, 19], \n",
    "'attempts': [1, 3, 2, 3, 2, 3, 1, 1, 2, 1], \n",
    "'qualify': ['yes', 'no', 'yes', 'no', 'no', 'yes', 'yes', 'no', 'no', 'yes']} \n",
    "labels = ['a', 'b', 'c', 'd', 'e', 'f', 'g', 'h', 'i', 'j'] "
   ]
  },
  {
   "cell_type": "code",
   "execution_count": 151,
   "id": "e0422f1c-654b-4d16-92db-43edb281929d",
   "metadata": {},
   "outputs": [
    {
     "name": "stdout",
     "output_type": "stream",
     "text": [
      "mean score :  score    13.5625\n",
      "dtype: float64\n"
     ]
    }
   ],
   "source": [
    "exam_data = {'name': ['Anastasia', 'Dima', 'Katherine', 'James', 'Emily', 'Michael', 'Matthew', 'Laura', 'Kevin', 'Jonas'], \n",
    "'score': [12.5, 9, 16.5, np.nan, 9, 20, 14.5, np.nan, 8, 19], \n",
    "'attempts': [1, 3, 2, 3, 2, 3, 1, 1, 2, 1], \n",
    "'qualify': ['yes', 'no', 'yes', 'no', 'no', 'yes', 'yes', 'no', 'no', 'yes']} \n",
    "labels = ['a', 'b', 'c', 'd', 'e', 'f', 'g', 'h', 'i', 'j'] \n",
    "# Create DataFrame\n",
    "df = pd.DataFrame(exam_data)\n",
    "print(\"mean score : \",df[['score']].mean())"
   ]
  },
  {
   "cell_type": "markdown",
   "id": "80541f8f-3dfe-423f-a0f7-0937358708bb",
   "metadata": {},
   "source": [
    "- 17. Write a Python program to append a new row 'k' to data frame with given values for each column. Now delete the new row and return the original DataFrame. exam_data = {'name': ['Anastasia', 'Dima', 'Katherine', 'James', 'Emily', 'Michael', 'Matthew', 'Laura', 'Kevin', 'Jonas'], \n",
    "'score': [12.5, 9, 16.5, np.nan, 9, 20, 14.5, np.nan, 8, 19], \n",
    "'attempts': [1, 3, 2, 3, 2, 3, 1, 1, 2, 1], \n",
    "'qualify': ['yes', 'no', 'yes', 'no', 'no', 'yes', 'yes', 'no', 'no', 'yes']} \n",
    "labels = ['a', 'b', 'c', 'd', 'e', 'f', 'g', 'h', 'i', 'j'] \n",
    "Values for each column will be: \n",
    "name : \"Suresh\", score: 15.5, attempts: 1, qualify: \"yes\", label: \"k\" \n"
   ]
  },
  {
   "cell_type": "code",
   "execution_count": 5,
   "id": "8fe50c9e-b4de-4ffb-a3e9-b267e3fcdd4f",
   "metadata": {},
   "outputs": [
    {
     "name": "stdout",
     "output_type": "stream",
     "text": [
      "        name  score  attempts qualify\n",
      "a  Anastasia   12.5         1     yes\n",
      "b       Dima    9.0         3      no\n",
      "c  Katherine   16.5         2     yes\n",
      "d      James    NaN         3      no\n",
      "e      Emily    9.0         2      no\n",
      "f    Michael   20.0         3     yes\n",
      "g    Matthew   14.5         1     yes\n",
      "h      Laura    NaN         1      no\n",
      "i      Kevin    8.0         2      no\n",
      "j      Jonas   19.0         1     yes\n",
      "k     Suresh   15.5         1     yes\n"
     ]
    }
   ],
   "source": [
    "exam_data = {   'name': ['Anastasia', 'Dima', 'Katherine', 'James', 'Emily', 'Michael', 'Matthew', 'Laura', 'Kevin', 'Jonas'], \n",
    "                'score': [12.5, 9, 16.5, np.nan, 9, 20, 14.5, np.nan, 8, 19], \n",
    "                'attempts': [1, 3, 2, 3, 2, 3, 1, 1, 2, 1], \n",
    "                'qualify': ['yes', 'no', 'yes', 'no', 'no', 'yes', 'yes', 'no', 'no', 'yes']} \n",
    "labels = ['a', 'b', 'c', 'd', 'e', 'f', 'g', 'h', 'i', 'j'] \n",
    "df = pd.DataFrame(exam_data,labels)\n",
    "df_ = pd.DataFrame({'name' : \"Suresh\", 'score': 15.5, 'attempts': 1, 'qualify': \"yes\"},index=['k']) \n",
    "df = pd.concat([df,df_])\n",
    "print(df.tail(20))"
   ]
  },
  {
   "cell_type": "markdown",
   "id": "62780081-8057-4297-916a-7a549bc96e2b",
   "metadata": {},
   "source": [
    "- 18. Write a Python program to sort the DataFrame first by 'name' in descending order, then by 'score' in ascending order. \n",
    "exam_data = {'name': ['Anastasia', 'Dima', 'Katherine', 'James', 'Emily', 'Michael', 'Matthew', 'Laura', 'Kevin', 'Jonas'], \n",
    "'score': [12.5, 9, 16.5, np.nan, 9, 20, 14.5, np.nan, 8, 19], \n",
    "'attempts': [1, 3, 2, 3, 2, 3, 1, 1, 2, 1],\n",
    "'qualify': ['yes', 'no', 'yes', 'no', 'no', 'yes', 'yes', 'no', 'no', 'yes']} \n",
    "labels = ['a', 'b', 'c', 'd', 'e', 'f', 'g', 'h', 'i', 'j'] \n",
    "Values for each column will be: \n",
    "name : \"Suresh\", score: 15.5, attempts: 1, qualify: \"yes\", label: \"k\" \n"
   ]
  },
  {
   "cell_type": "code",
   "execution_count": 8,
   "id": "f717c7ba-84fb-47dd-b5a8-c38778135c4c",
   "metadata": {},
   "outputs": [
    {
     "data": {
      "text/html": [
       "<div>\n",
       "<style scoped>\n",
       "    .dataframe tbody tr th:only-of-type {\n",
       "        vertical-align: middle;\n",
       "    }\n",
       "\n",
       "    .dataframe tbody tr th {\n",
       "        vertical-align: top;\n",
       "    }\n",
       "\n",
       "    .dataframe thead th {\n",
       "        text-align: right;\n",
       "    }\n",
       "</style>\n",
       "<table border=\"1\" class=\"dataframe\">\n",
       "  <thead>\n",
       "    <tr style=\"text-align: right;\">\n",
       "      <th></th>\n",
       "      <th>name</th>\n",
       "      <th>score</th>\n",
       "      <th>attempts</th>\n",
       "      <th>qualify</th>\n",
       "    </tr>\n",
       "  </thead>\n",
       "  <tbody>\n",
       "    <tr>\n",
       "      <th>k</th>\n",
       "      <td>Suresh</td>\n",
       "      <td>15.5</td>\n",
       "      <td>1</td>\n",
       "      <td>yes</td>\n",
       "    </tr>\n",
       "    <tr>\n",
       "      <th>f</th>\n",
       "      <td>Michael</td>\n",
       "      <td>20.0</td>\n",
       "      <td>3</td>\n",
       "      <td>yes</td>\n",
       "    </tr>\n",
       "    <tr>\n",
       "      <th>g</th>\n",
       "      <td>Matthew</td>\n",
       "      <td>14.5</td>\n",
       "      <td>1</td>\n",
       "      <td>yes</td>\n",
       "    </tr>\n",
       "    <tr>\n",
       "      <th>h</th>\n",
       "      <td>Laura</td>\n",
       "      <td>NaN</td>\n",
       "      <td>1</td>\n",
       "      <td>no</td>\n",
       "    </tr>\n",
       "    <tr>\n",
       "      <th>i</th>\n",
       "      <td>Kevin</td>\n",
       "      <td>8.0</td>\n",
       "      <td>2</td>\n",
       "      <td>no</td>\n",
       "    </tr>\n",
       "    <tr>\n",
       "      <th>c</th>\n",
       "      <td>Katherine</td>\n",
       "      <td>16.5</td>\n",
       "      <td>2</td>\n",
       "      <td>yes</td>\n",
       "    </tr>\n",
       "    <tr>\n",
       "      <th>j</th>\n",
       "      <td>Jonas</td>\n",
       "      <td>19.0</td>\n",
       "      <td>1</td>\n",
       "      <td>yes</td>\n",
       "    </tr>\n",
       "    <tr>\n",
       "      <th>d</th>\n",
       "      <td>James</td>\n",
       "      <td>NaN</td>\n",
       "      <td>3</td>\n",
       "      <td>no</td>\n",
       "    </tr>\n",
       "    <tr>\n",
       "      <th>e</th>\n",
       "      <td>Emily</td>\n",
       "      <td>9.0</td>\n",
       "      <td>2</td>\n",
       "      <td>no</td>\n",
       "    </tr>\n",
       "    <tr>\n",
       "      <th>b</th>\n",
       "      <td>Dima</td>\n",
       "      <td>9.0</td>\n",
       "      <td>3</td>\n",
       "      <td>no</td>\n",
       "    </tr>\n",
       "    <tr>\n",
       "      <th>a</th>\n",
       "      <td>Anastasia</td>\n",
       "      <td>12.5</td>\n",
       "      <td>1</td>\n",
       "      <td>yes</td>\n",
       "    </tr>\n",
       "  </tbody>\n",
       "</table>\n",
       "</div>"
      ],
      "text/plain": [
       "        name  score  attempts qualify\n",
       "k     Suresh   15.5         1     yes\n",
       "f    Michael   20.0         3     yes\n",
       "g    Matthew   14.5         1     yes\n",
       "h      Laura    NaN         1      no\n",
       "i      Kevin    8.0         2      no\n",
       "c  Katherine   16.5         2     yes\n",
       "j      Jonas   19.0         1     yes\n",
       "d      James    NaN         3      no\n",
       "e      Emily    9.0         2      no\n",
       "b       Dima    9.0         3      no\n",
       "a  Anastasia   12.5         1     yes"
      ]
     },
     "execution_count": 8,
     "metadata": {},
     "output_type": "execute_result"
    }
   ],
   "source": [
    "exam_data = {'name': ['Anastasia', 'Dima', 'Katherine', 'James', 'Emily', 'Michael', 'Matthew', 'Laura', 'Kevin', 'Jonas'], \n",
    "'score': [12.5, 9, 16.5, np.nan, 9, 20, 14.5, np.nan, 8, 19], \n",
    "'attempts': [1, 3, 2, 3, 2, 3, 1, 1, 2, 1],\n",
    "'qualify': ['yes', 'no', 'yes', 'no', 'no', 'yes', 'yes', 'no', 'no', 'yes']} \n",
    "labels = ['a', 'b', 'c', 'd', 'e', 'f', 'g', 'h', 'i', 'j'] \n",
    "df = pd.DataFrame(exam_data,labels)\n",
    "df_ = pd.DataFrame({'name' : \"Suresh\", 'score': 15.5, 'attempts': 1, 'qualify': \"yes\"}, index= [\"k\"] )\n",
    "df = pd.concat((df,df_))\n",
    "df1 = df.sort_values(by ='name',ascending=False)\n",
    "df1"
   ]
  },
  {
   "cell_type": "markdown",
   "id": "8139af65-592b-4019-b067-94ffd07e4247",
   "metadata": {},
   "source": [
    "- 19. Write a Python program to replace the 'qualify' column contains the values 'yes' and 'no' with True and False. \n",
    "exam_data = {'name': ['Anastasia', 'Dima', 'Katherine', 'James', 'Emily', 'Michael', 'Matthew', 'Laura', 'Kevin', 'Jonas'], \n",
    "'score': [12.5, 9, 16.5, np.nan, 9, 20, 14.5, np.nan, 8, 19], \n",
    "'attempts': [1, 3, 2, 3, 2, 3, 1, 1, 2, 1], \n",
    "'qualify': ['yes', 'no', 'yes', 'no', 'no', 'yes', 'yes', 'no', 'no', 'yes']} \n",
    "labels = ['a', 'b', 'c', 'd', 'e', 'f', 'g', 'h', 'i', 'j'] \n"
   ]
  },
  {
   "cell_type": "code",
   "execution_count": 12,
   "id": "ef041892-6f36-4f00-bba1-6ddb99284c50",
   "metadata": {},
   "outputs": [
    {
     "name": "stdout",
     "output_type": "stream",
     "text": [
      "        name  score  attempts  qualify\n",
      "a  Anastasia   12.5         1        1\n",
      "b       Dima    9.0         3        0\n",
      "c  Katherine   16.5         2        1\n",
      "d      James    NaN         3        0\n",
      "e      Emily    9.0         2        0\n",
      "f    Michael   20.0         3        1\n",
      "g    Matthew   14.5         1        1\n",
      "h      Laura    NaN         1        0\n",
      "i      Kevin    8.0         2        0\n",
      "j      Jonas   19.0         1        1\n"
     ]
    },
    {
     "name": "stderr",
     "output_type": "stream",
     "text": [
      "C:\\Users\\dhana\\AppData\\Local\\Temp\\ipykernel_18336\\2615852412.py:8: FutureWarning: Downcasting behavior in `replace` is deprecated and will be removed in a future version. To retain the old behavior, explicitly call `result.infer_objects(copy=False)`. To opt-in to the future behavior, set `pd.set_option('future.no_silent_downcasting', True)`\n",
      "  df.replace({'qualify':'no'},0,inplace=True)\n"
     ]
    }
   ],
   "source": [
    "exam_data = {'name': ['Anastasia', 'Dima', 'Katherine', 'James', 'Emily', 'Michael', 'Matthew', 'Laura', 'Kevin', 'Jonas'], \n",
    "'score': [12.5, 9, 16.5, np.nan, 9, 20, 14.5, np.nan, 8, 19], \n",
    "'attempts': [1, 3, 2, 3, 2, 3, 1, 1, 2, 1], \n",
    "'qualify': ['yes', 'no', 'yes', 'no', 'no', 'yes', 'yes', 'no', 'no', 'yes']} \n",
    "labels = ['a', 'b', 'c', 'd', 'e', 'f', 'g', 'h', 'i', 'j'] \n",
    "df = pd.DataFrame(exam_data,labels)\n",
    "df.replace({'qualify':'yes'},1,inplace=True)\n",
    "df.replace({'qualify':'no'},0,inplace=True)\n",
    "print(df)"
   ]
  },
  {
   "cell_type": "markdown",
   "id": "520f68d4-da2b-4ee6-bd4f-bb07eca32864",
   "metadata": {},
   "source": [
    "- 20. Write a Python program to delete the 'attempts' column from the DataFrame. exam_data = {'name': ['Anastasia', 'Dima', 'Katherine', 'James', 'Emily', 'Michael', 'Matthew', 'Laura', 'Kevin', 'Jonas'], \n",
    "'score': [12.5, 9, 16.5, np.nan, 9, 20, 14.5, np.nan, 8, 19], \n",
    "'attempts': [1, 3, 2, 3, 2, 3, 1, 1, 2, 1], \n",
    "'qualify': ['yes', 'no', 'yes', 'no', 'no', 'yes', 'yes', 'no', 'no', 'yes']} \n",
    "labels = ['a', 'b', 'c', 'd', 'e', 'f', 'g', 'h', 'i', 'j'] \n"
   ]
  },
  {
   "cell_type": "code",
   "execution_count": 13,
   "id": "b98e8130-7321-42c4-b63b-5dfd26ddd9c6",
   "metadata": {},
   "outputs": [
    {
     "data": {
      "text/html": [
       "<div>\n",
       "<style scoped>\n",
       "    .dataframe tbody tr th:only-of-type {\n",
       "        vertical-align: middle;\n",
       "    }\n",
       "\n",
       "    .dataframe tbody tr th {\n",
       "        vertical-align: top;\n",
       "    }\n",
       "\n",
       "    .dataframe thead th {\n",
       "        text-align: right;\n",
       "    }\n",
       "</style>\n",
       "<table border=\"1\" class=\"dataframe\">\n",
       "  <thead>\n",
       "    <tr style=\"text-align: right;\">\n",
       "      <th></th>\n",
       "      <th>name</th>\n",
       "      <th>score</th>\n",
       "      <th>qualify</th>\n",
       "    </tr>\n",
       "  </thead>\n",
       "  <tbody>\n",
       "    <tr>\n",
       "      <th>a</th>\n",
       "      <td>Anastasia</td>\n",
       "      <td>12.5</td>\n",
       "      <td>yes</td>\n",
       "    </tr>\n",
       "    <tr>\n",
       "      <th>b</th>\n",
       "      <td>Dima</td>\n",
       "      <td>9.0</td>\n",
       "      <td>no</td>\n",
       "    </tr>\n",
       "    <tr>\n",
       "      <th>c</th>\n",
       "      <td>Katherine</td>\n",
       "      <td>16.5</td>\n",
       "      <td>yes</td>\n",
       "    </tr>\n",
       "    <tr>\n",
       "      <th>d</th>\n",
       "      <td>James</td>\n",
       "      <td>NaN</td>\n",
       "      <td>no</td>\n",
       "    </tr>\n",
       "    <tr>\n",
       "      <th>e</th>\n",
       "      <td>Emily</td>\n",
       "      <td>9.0</td>\n",
       "      <td>no</td>\n",
       "    </tr>\n",
       "    <tr>\n",
       "      <th>f</th>\n",
       "      <td>Michael</td>\n",
       "      <td>20.0</td>\n",
       "      <td>yes</td>\n",
       "    </tr>\n",
       "    <tr>\n",
       "      <th>g</th>\n",
       "      <td>Matthew</td>\n",
       "      <td>14.5</td>\n",
       "      <td>yes</td>\n",
       "    </tr>\n",
       "    <tr>\n",
       "      <th>h</th>\n",
       "      <td>Laura</td>\n",
       "      <td>NaN</td>\n",
       "      <td>no</td>\n",
       "    </tr>\n",
       "    <tr>\n",
       "      <th>i</th>\n",
       "      <td>Kevin</td>\n",
       "      <td>8.0</td>\n",
       "      <td>no</td>\n",
       "    </tr>\n",
       "    <tr>\n",
       "      <th>j</th>\n",
       "      <td>Jonas</td>\n",
       "      <td>19.0</td>\n",
       "      <td>yes</td>\n",
       "    </tr>\n",
       "  </tbody>\n",
       "</table>\n",
       "</div>"
      ],
      "text/plain": [
       "        name  score qualify\n",
       "a  Anastasia   12.5     yes\n",
       "b       Dima    9.0      no\n",
       "c  Katherine   16.5     yes\n",
       "d      James    NaN      no\n",
       "e      Emily    9.0      no\n",
       "f    Michael   20.0     yes\n",
       "g    Matthew   14.5     yes\n",
       "h      Laura    NaN      no\n",
       "i      Kevin    8.0      no\n",
       "j      Jonas   19.0     yes"
      ]
     },
     "execution_count": 13,
     "metadata": {},
     "output_type": "execute_result"
    }
   ],
   "source": [
    "exam_data = {'name': ['Anastasia', 'Dima', 'Katherine', 'James', 'Emily', 'Michael', 'Matthew', 'Laura', 'Kevin', 'Jonas'], \n",
    "            'score': [12.5, 9, 16.5, np.nan, 9, 20, 14.5, np.nan, 8, 19], \n",
    "            'attempts': [1, 3, 2, 3, 2, 3, 1, 1, 2, 1], \n",
    "            'qualify': ['yes', 'no', 'yes', 'no', 'no', 'yes', 'yes', 'no', 'no', 'yes']\n",
    "            } \n",
    "labels = ['a', 'b', 'c', 'd', 'e', 'f', 'g', 'h', 'i', 'j'] \n",
    "\n",
    "df = pd.DataFrame(exam_data,labels)\n",
    "df.drop(columns=['attempts'],inplace=True)\n",
    "df.head(10)"
   ]
  },
  {
   "cell_type": "markdown",
   "id": "ac69ef7e-d910-4862-acbf-d47e8590895c",
   "metadata": {},
   "source": [
    "- 21. Write a Python program to insert a new column in existing DataFrame. exam_data = {'name': ['Anastasia', 'Dima', 'Katherine', 'James', 'Emily', 'Michael', 'Matthew', 'Laura', 'Kevin', 'Jonas'], \n",
    "'score': [12.5, 9, 16.5, np.nan, 9, 20, 14.5, np.nan, 8, 19], \n",
    "'attempts': [1, 3, 2, 3, 2, 3, 1, 1, 2, 1], \n",
    "'qualify': ['yes', 'no', 'yes', 'no', 'no', 'yes', 'yes', 'no', 'no', 'yes']} \n",
    "labels = ['a', 'b', 'c', 'd', 'e', 'f', 'g', 'h', 'i', 'j'] "
   ]
  },
  {
   "cell_type": "code",
   "execution_count": 212,
   "id": "d0bbd926-7db7-4448-adec-f8dc0ea5ecf0",
   "metadata": {},
   "outputs": [
    {
     "name": "stdout",
     "output_type": "stream",
     "text": [
      "        name  score  attempts qualify  rank\n",
      "a  Anastasia   12.5         1     yes     1\n",
      "b       Dima    9.0         3      no     2\n",
      "c  Katherine   16.5         2     yes     3\n",
      "d      James    NaN         3      no     4\n",
      "e      Emily    9.0         2      no     5\n",
      "f    Michael   20.0         3     yes     6\n",
      "g    Matthew   14.5         1     yes     7\n",
      "h      Laura    NaN         1      no     8\n",
      "i      Kevin    8.0         2      no     9\n",
      "j      Jonas   19.0         1     yes    10\n"
     ]
    }
   ],
   "source": [
    "exam_data = {\n",
    "    'name': ['Anastasia', 'Dima', 'Katherine', 'James', 'Emily', 'Michael', 'Matthew', 'Laura', 'Kevin', 'Jonas'], \n",
    "    'score': [12.5, 9, 16.5, np.nan, 9, 20, 14.5, np.nan, 8, 19], \n",
    "    'attempts': [1, 3, 2, 3, 2, 3, 1, 1, 2, 1], \n",
    "    'qualify': ['yes', 'no', 'yes', 'no', 'no', 'yes', 'yes', 'no', 'no', 'yes']\n",
    "} \n",
    "labels = ['a', 'b', 'c', 'd', 'e', 'f', 'g', 'h', 'i', 'j'] \n",
    "df = pd.DataFrame(exam_data,labels)\n",
    "x=df.drop(columns='qualify')\n",
    "rank =[1,2,3,4,5,6,7,8,9,10]\n",
    "df[\"rank\"]=rank\n",
    "print(df)\n"
   ]
  },
  {
   "cell_type": "markdown",
   "id": "3b60f2c3-c3b8-4b87-bb44-016b7f14ddf4",
   "metadata": {},
   "source": [
    "- 22. Write a Python program to iterate over rows in a DataFrame. "
   ]
  },
  {
   "cell_type": "code",
   "execution_count": 228,
   "id": "62226684-d106-40fe-99f9-7b8c5b40aac0",
   "metadata": {},
   "outputs": [
    {
     "name": "stdout",
     "output_type": "stream",
     "text": [
      "Anastasia 12.5 1\n",
      "Dima 9.0 3\n",
      "Katherine 16.5 2\n",
      "James nan 3\n",
      "Emily 9.0 2\n",
      "Michael 20.0 3\n",
      "Matthew 14.5 1\n",
      "Laura nan 1\n",
      "Kevin 8.0 2\n",
      "Jonas 19.0 1\n"
     ]
    }
   ],
   "source": [
    "exam_data = {\n",
    "    'name': ['Anastasia', 'Dima', 'Katherine', 'James', 'Emily', 'Michael', 'Matthew', 'Laura', 'Kevin', 'Jonas'], \n",
    "    'score': [12.5, 9, 16.5, np.nan, 9, 20, 14.5, np.nan, 8, 19], \n",
    "    'attempts': [1, 3, 2, 3, 2, 3, 1, 1, 2, 1], \n",
    "    'qualify': ['yes', 'no', 'yes', 'no', 'no', 'yes', 'yes', 'no', 'no', 'yes']\n",
    "} \n",
    "labels = ['a', 'b', 'c', 'd', 'e', 'f', 'g', 'h', 'i', 'j'] \n",
    "df = pd.DataFrame(exam_data,labels)\n",
    "for i in df.itertuples(index=False):\n",
    "    name,score,attempts,qualify=i\n",
    "    print(name,score,attempts)"
   ]
  },
  {
   "cell_type": "markdown",
   "id": "dd7a49db-49ea-491d-b91e-6380db5395fd",
   "metadata": {},
   "source": [
    " - 23. Write a Python program to get list from DataFrame column headers. Sample data: \n",
    "exam_data = {'name': ['Anastasia', 'Dima', 'Katherine', 'James', 'Emily', 'Michael', 'Matthew', 'Laura', 'Kevin', 'Jonas'], \n",
    "'score': [12.5, 9, 16.5, np.nan, 9, 20, 14.5, np.nan, 8, 19], \n",
    "'attempts': [1, 3, 2, 3, 2, 3, 1, 1, 2, 1],\n",
    "'qualify': ['yes', 'no', 'yes', 'no', 'no', 'yes', 'yes', 'no', 'no', 'yes']} \n",
    "labels = ['a', 'b', 'c', 'd', 'e', 'f', 'g', 'h', 'i', 'j'] \n"
   ]
  },
  {
   "cell_type": "code",
   "execution_count": 231,
   "id": "7b022fb4-2155-4af0-a664-2ca1756071d1",
   "metadata": {},
   "outputs": [
    {
     "name": "stdout",
     "output_type": "stream",
     "text": [
      "['name', 'score', 'attempts', 'qualify']\n"
     ]
    }
   ],
   "source": [
    "exam_data = {'name': ['Anastasia', 'Dima', 'Katherine', 'James', 'Emily', 'Michael', 'Matthew', 'Laura', 'Kevin', 'Jonas'], \n",
    "'score': [12.5, 9, 16.5, np.nan, 9, 20, 14.5, np.nan, 8, 19], \n",
    "'attempts': [1, 3, 2, 3, 2, 3, 1, 1, 2, 1],\n",
    "'qualify': ['yes', 'no', 'yes', 'no', 'no', 'yes', 'yes', 'no', 'no', 'yes']} \n",
    "labels = ['a', 'b', 'c', 'd', 'e', 'f', 'g', 'h', 'i', 'j'] \n",
    "\n",
    "df = pd.DataFrame(exam_data,labels)\n",
    "df.head()\n",
    "columns= df.columns.tolist()\n",
    "print(columns)"
   ]
  },
  {
   "cell_type": "code",
   "execution_count": null,
   "id": "129efbfa-0620-47a0-be7f-2ffa14c1be1c",
   "metadata": {},
   "outputs": [],
   "source": []
  }
 ],
 "metadata": {
  "kernelspec": {
   "display_name": "Python 3 (ipykernel)",
   "language": "python",
   "name": "python3"
  },
  "language_info": {
   "codemirror_mode": {
    "name": "ipython",
    "version": 3
   },
   "file_extension": ".py",
   "mimetype": "text/x-python",
   "name": "python",
   "nbconvert_exporter": "python",
   "pygments_lexer": "ipython3",
   "version": "3.11.9"
  }
 },
 "nbformat": 4,
 "nbformat_minor": 5
}
